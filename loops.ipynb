{
 "cells": [
  {
   "cell_type": "code",
   "execution_count": 1,
   "metadata": {},
   "outputs": [
    {
     "name": "stdout",
     "output_type": "stream",
     "text": [
      "0\n",
      "1\n",
      "2\n",
      "3\n",
      "4\n",
      "5\n",
      "6\n",
      "7\n",
      "8\n",
      "9\n",
      "0\n",
      "1\n",
      "2\n",
      "3\n",
      "4\n",
      "5\n",
      "6\n",
      "7\n",
      "8\n",
      "9\n"
     ]
    }
   ],
   "source": [
    "#for and while loop\n",
    "###for-step based loop\n",
    "\n",
    "for i in range(10):\n",
    "    print(i)\n",
    "\n",
    "###while-condition based loop \n",
    "\n",
    "i=0\n",
    "while i<10:\n",
    "    print(i)\n",
    "    i+=1"
   ]
  },
  {
   "attachments": {},
   "cell_type": "markdown",
   "metadata": {},
   "source": [
    "- used for\n",
    "   - iterating over a sequence(list,tuple,string)\n",
    "   - iterating over a range\n",
    "\n",
    "- while used for\n",
    "- iterating until a condition is met\n",
    "- iterating until a condition is no longer met\n",
    "- iterating forever(if you dont break out of it)"
   ]
  },
  {
   "cell_type": "code",
   "execution_count": 6,
   "metadata": {},
   "outputs": [],
   "source": [
    "movies=['shershah','junooniyat','culpa mia','evil dead rise','xo:kitty','Athws','Aladdin','heropanti','sanam re','DDLJ']"
   ]
  },
  {
   "cell_type": "code",
   "execution_count": 4,
   "metadata": {},
   "outputs": [
    {
     "name": "stdout",
     "output_type": "stream",
     "text": [
      "total movies=10\n"
     ]
    }
   ],
   "source": [
    "print(f'total movies={len(movies)}')"
   ]
  },
  {
   "cell_type": "code",
   "execution_count": 7,
   "metadata": {},
   "outputs": [
    {
     "name": "stdout",
     "output_type": "stream",
     "text": [
      "shershah\n",
      "junooniyat\n",
      "culpa mia\n",
      "evil dead rise\n",
      "xo:kitty\n",
      "Athws\n",
      "Aladdin\n",
      "heropanti\n",
      "sanam re\n",
      "DDLJ\n"
     ]
    }
   ],
   "source": [
    "for movie in movies:\n",
    "    print(movie)"
   ]
  },
  {
   "cell_type": "code",
   "execution_count": 14,
   "metadata": {},
   "outputs": [
    {
     "name": "stdout",
     "output_type": "stream",
     "text": [
      "shershah            8\n",
      "junooniyat          10\n",
      "culpa mia           9\n",
      "evil dead rise      14\n",
      "xo:kitty            8\n",
      "Athws               5\n",
      "Aladdin             7\n",
      "heropanti           9\n",
      "sanam re            8\n",
      "DDLJ                4\n"
     ]
    }
   ],
   "source": [
    "for movie in movies:\n",
    "    print(f'{movie:20}{len(movie)}')"
   ]
  },
  {
   "cell_type": "code",
   "execution_count": 15,
   "metadata": {},
   "outputs": [
    {
     "name": "stdout",
     "output_type": "stream",
     "text": [
      "32 1024\n",
      "56 3136\n",
      "23 529\n",
      "56 3136\n",
      "12 144\n",
      "12 144\n",
      "67 4489\n",
      "56 3136\n",
      "7 49\n",
      "2 4\n"
     ]
    }
   ],
   "source": [
    "num=[32,56,23,56,12,12,67,56,7,2]\n",
    "for i in num:\n",
    "    print(i,i*i)"
   ]
  },
  {
   "cell_type": "code",
   "execution_count": 16,
   "metadata": {},
   "outputs": [
    {
     "name": "stdout",
     "output_type": "stream",
     "text": [
      "32 1024\n",
      "56 3136\n",
      "56 3136\n",
      "12 144\n",
      "12 144\n",
      "56 3136\n",
      "2 4\n"
     ]
    }
   ],
   "source": [
    "for i in num:\n",
    "    if i%2==0:\n",
    "        print(i,i*i)"
   ]
  },
  {
   "cell_type": "code",
   "execution_count": 18,
   "metadata": {},
   "outputs": [
    {
     "name": "stdout",
     "output_type": "stream",
     "text": [
      "23 529\n",
      "67 4489\n",
      "7 49\n"
     ]
    }
   ],
   "source": [
    "for i in num:\n",
    "    if i%2 !=0:\n",
    "        print(i,i*i)"
   ]
  },
  {
   "cell_type": "code",
   "execution_count": 22,
   "metadata": {},
   "outputs": [
    {
     "name": "stdout",
     "output_type": "stream",
     "text": [
      "226\n"
     ]
    }
   ],
   "source": [
    "total=0\n",
    "for i in num:\n",
    "    if i%2 ==0:\n",
    "        total+=i\n",
    "print(total)\n"
   ]
  },
  {
   "cell_type": "code",
   "execution_count": 23,
   "metadata": {},
   "outputs": [
    {
     "name": "stdout",
     "output_type": "stream",
     "text": [
      "32\n"
     ]
    }
   ],
   "source": [
    "for i in num:\n",
    "    if i>50:\n",
    "     break\n",
    "    print(i)"
   ]
  },
  {
   "cell_type": "code",
   "execution_count": 30,
   "metadata": {},
   "outputs": [
    {
     "name": "stdout",
     "output_type": "stream",
     "text": [
      "apple\n",
      "potato\n",
      "banana\n"
     ]
    }
   ],
   "source": [
    "x=[\"apple\",'potato','banana','','orange','mango']\n",
    "for item in x:\n",
    "    if len(item)==0:\n",
    "      break\n",
    "    print(item)"
   ]
  },
  {
   "cell_type": "code",
   "execution_count": 31,
   "metadata": {},
   "outputs": [
    {
     "name": "stdout",
     "output_type": "stream",
     "text": [
      "login successfull\n"
     ]
    }
   ],
   "source": [
    "errors=0\n",
    "while True:\n",
    "    username=input('enter username:')\n",
    "    password=input('enter password:')\n",
    "    if username=='admin' and password =='secret':\n",
    "        print('login successfull')\n",
    "        break\n",
    "    elif errors==3:\n",
    "        print('too many errors')\n",
    "        break\n",
    "    else:\n",
    "        print('invalid username/password')\n",
    "        error+=1"
   ]
  },
  {
   "cell_type": "code",
   "execution_count": 1,
   "metadata": {},
   "outputs": [],
   "source": [
    "x=[['warbreaker',4999],['the way of kings',5999],['words of radiance',5999],['oath bringer',5999],['rythm of war',5999]]"
   ]
  },
  {
   "cell_type": "code",
   "execution_count": 2,
   "metadata": {},
   "outputs": [
    {
     "name": "stdout",
     "output_type": "stream",
     "text": [
      "warbreaker\n",
      "4999\n",
      "---\n",
      "the way of kings\n",
      "5999\n",
      "---\n",
      "words of radiance\n",
      "5999\n",
      "---\n",
      "oath bringer\n",
      "5999\n",
      "---\n",
      "rythm of war\n",
      "5999\n",
      "---\n"
     ]
    }
   ],
   "source": [
    "for item in x:\n",
    "    for data in item:\n",
    "        print(data)\n",
    "    print('---')"
   ]
  },
  {
   "cell_type": "code",
   "execution_count": null,
   "metadata": {},
   "outputs": [],
   "source": []
  }
 ],
 "metadata": {
  "kernelspec": {
   "display_name": "base",
   "language": "python",
   "name": "python3"
  },
  "language_info": {
   "codemirror_mode": {
    "name": "ipython",
    "version": 3
   },
   "file_extension": ".py",
   "mimetype": "text/x-python",
   "name": "python",
   "nbconvert_exporter": "python",
   "pygments_lexer": "ipython3",
   "version": "3.10.10"
  },
  "orig_nbformat": 4
 },
 "nbformat": 4,
 "nbformat_minor": 2
}
