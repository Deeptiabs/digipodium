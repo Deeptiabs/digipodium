{
 "cells": [
  {
   "cell_type": "code",
   "execution_count": 1,
   "metadata": {},
   "outputs": [],
   "source": [
    "lbs_info={\n",
    "    'full name': \"lal bahadur shastri college\",\n",
    "    'short name':'lbs',\n",
    "    'students': 440,\n",
    "    'culture':'mood off'\n",
    "}\n"
   ]
  },
  {
   "cell_type": "code",
   "execution_count": 4,
   "metadata": {},
   "outputs": [],
   "source": [
    "movies={\n",
    "    'sooryavansham':{\n",
    "        'related on':'sony max',\n",
    "        'plot':'rich father does not like his son',\n",
    "        'rating':10\n",
    "    },\n",
    "    'ghajini':{\n",
    "        'related on':'rich person',\n",
    "        'rating':10\n",
    "    },\n",
    "    'satyapremkikatha':{\n",
    "        'related on':'rich girl poor guy from ahmedabad',\n",
    "        'ending':'happy ending',\n",
    "        'rating':8\n",
    "    },\n",
    "    'evil dead':{\n",
    "        'related on':'horror',\n",
    "        'rating':5\n",
    "    },\n",
    "    'shershah':{\n",
    "        'related on':'kargil war',\n",
    "        'rating':10,\n",
    "        'ending':'sad ending'\n",
    "    },\n",
    " }"
   ]
  },
  {
   "cell_type": "code",
   "execution_count": 5,
   "metadata": {},
   "outputs": [],
   "source": [
    "movies['3 idiots']={\n",
    "    'streamed on':'amazon prime',\n",
    "    'plot':'3 frnds in college',\n",
    "    'rating':10\n",
    "}"
   ]
  },
  {
   "cell_type": "code",
   "execution_count": 8,
   "metadata": {},
   "outputs": [
    {
     "data": {
      "text/plain": [
       "10"
      ]
     },
     "execution_count": 8,
     "metadata": {},
     "output_type": "execute_result"
    }
   ],
   "source": [
    "#retrieve\n",
    "movies['shershah']['rating']"
   ]
  },
  {
   "cell_type": "code",
   "execution_count": 9,
   "metadata": {},
   "outputs": [
    {
     "data": {
      "text/plain": [
       "['sooryavansham',\n",
       " 'ghajini',\n",
       " 'satyapremkikatha',\n",
       " 'evil dead',\n",
       " 'shershah',\n",
       " '3 idiots']"
      ]
     },
     "execution_count": 9,
     "metadata": {},
     "output_type": "execute_result"
    }
   ],
   "source": [
    "#getting only keys\n",
    "list(movies.keys())"
   ]
  },
  {
   "cell_type": "code",
   "execution_count": 10,
   "metadata": {},
   "outputs": [
    {
     "data": {
      "text/plain": [
       "[{'related on': 'sony max',\n",
       "  'plot': 'rich father does not like his son',\n",
       "  'rating': 10},\n",
       " {'related on': 'rich person', 'rating': 10},\n",
       " {'related on': 'rich girl poor guy from ahmedabad',\n",
       "  'ending': 'happy ending',\n",
       "  'rating': 8},\n",
       " {'related on': 'horror', 'rating': 5},\n",
       " {'related on': 'kargil war', 'rating': 10, 'ending': 'sad ending'},\n",
       " {'streamed on': 'amazon prime', 'plot': '3 frnds in college', 'rating': 10}]"
      ]
     },
     "execution_count": 10,
     "metadata": {},
     "output_type": "execute_result"
    }
   ],
   "source": [
    "#getting only value\n",
    "list(movies.values())"
   ]
  },
  {
   "cell_type": "code",
   "execution_count": 12,
   "metadata": {},
   "outputs": [
    {
     "name": "stdout",
     "output_type": "stream",
     "text": [
      "SOORYAVANSHAM\n",
      "related on     sony max\n",
      "plot           rich father does not like his son\n",
      "rating         10\n",
      "\n",
      "GHAJINI\n",
      "related on     rich person\n",
      "rating         10\n",
      "\n",
      "SATYAPREMKIKATHA\n",
      "related on     rich girl poor guy from ahmedabad\n",
      "ending         happy ending\n",
      "rating         8\n",
      "\n",
      "EVIL DEAD\n",
      "related on     horror\n",
      "rating         5\n",
      "\n",
      "SHERSHAH\n",
      "related on     kargil war\n",
      "rating         10\n",
      "ending         sad ending\n",
      "\n",
      "3 IDIOTS\n",
      "streamed on    amazon prime\n",
      "plot           3 frnds in college\n",
      "rating         10\n",
      "\n"
     ]
    }
   ],
   "source": [
    "for title,details in movies.items():\n",
    "    print(title.upper())\n",
    "    for entry,value in details.items():\n",
    "        print(f'{entry:15}{value}')\n",
    "    print()"
   ]
  },
  {
   "cell_type": "code",
   "execution_count": 14,
   "metadata": {},
   "outputs": [
    {
     "name": "stdout",
     "output_type": "stream",
     "text": [
      "{'sooryavansham': {'related on': 'sony max', 'plot': 'rich father does not like his son', 'rating': 10}, 'ghajini': {'related on': 'rich person', 'rating': 10}, 'satyapremkikatha': {'related on': 'rich girl poor guy from ahmedabad', 'ending': 'happy ending', 'rating': 8}, 'evil dead': {'related on': 'horror', 'rating': 5}, '3 idiots': {'streamed on': 'amazon prime', 'plot': '3 frnds in college', 'rating': 10}}\n"
     ]
    }
   ],
   "source": [
    "movies.pop('shershah')\n",
    "print(movies)"
   ]
  },
  {
   "cell_type": "code",
   "execution_count": null,
   "metadata": {},
   "outputs": [],
   "source": []
  }
 ],
 "metadata": {
  "kernelspec": {
   "display_name": "base",
   "language": "python",
   "name": "python3"
  },
  "language_info": {
   "codemirror_mode": {
    "name": "ipython",
    "version": 3
   },
   "file_extension": ".py",
   "mimetype": "text/x-python",
   "name": "python",
   "nbconvert_exporter": "python",
   "pygments_lexer": "ipython3",
   "version": "3.10.10"
  },
  "orig_nbformat": 4
 },
 "nbformat": 4,
 "nbformat_minor": 2
}
