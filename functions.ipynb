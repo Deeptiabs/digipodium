{
 "cells": [
  {
   "cell_type": "code",
   "execution_count": 1,
   "metadata": {},
   "outputs": [
    {
     "name": "stdout",
     "output_type": "stream",
     "text": [
      "9\n",
      "1729\n",
      "65\n",
      "28\n"
     ]
    }
   ],
   "source": [
    "#lambda expressions-for making anonymous funtion\n",
    "\n",
    "f=lambda x: x**2*x+1\n",
    "print(f(2))\n",
    "print(f(12))\n",
    "print(f(4))\n",
    "print(f(3))"
   ]
  },
  {
   "cell_type": "code",
   "execution_count": 2,
   "metadata": {},
   "outputs": [
    {
     "name": "stdout",
     "output_type": "stream",
     "text": [
      "36\n",
      "49\n"
     ]
    }
   ],
   "source": [
    "g=lambda x,y: x**2+2*x*y+y**2\n",
    "print(g(2,4))\n",
    "print(g(2,5))"
   ]
  },
  {
   "cell_type": "code",
   "execution_count": 9,
   "metadata": {},
   "outputs": [
    {
     "name": "stdout",
     "output_type": "stream",
     "text": [
      "8.246211251235321\n",
      "7.810249675906654\n"
     ]
    }
   ],
   "source": [
    "h=lambda b,p : (b**2+p**2)**0.5\n",
    "print(h(2,8))\n",
    "print(h(5,6))"
   ]
  },
  {
   "cell_type": "code",
   "execution_count": 12,
   "metadata": {},
   "outputs": [
    {
     "name": "stdout",
     "output_type": "stream",
     "text": [
      "[20000, 30000, 90000, 80000, 40000]\n",
      "[16800.0, 25200.0, 75600.0, 67200.0, 33600.0]\n"
     ]
    }
   ],
   "source": [
    "prices=[20000,30000,90000,80000,40000]\n",
    "dis_price=[]\n",
    "for price in prices:\n",
    "    answer=price*(1-0.16)\n",
    "    dis_price.append(answer)\n",
    "print(prices)\n",
    "print(dis_price)"
   ]
  },
  {
   "cell_type": "code",
   "execution_count": 18,
   "metadata": {},
   "outputs": [
    {
     "data": {
      "text/plain": [
       "[16800.0, 25200.0, 75600.0, 67200.0, 33600.0]"
      ]
     },
     "execution_count": 18,
     "metadata": {},
     "output_type": "execute_result"
    }
   ],
   "source": [
    "list(map(lambda p: p*(1-.16),prices))"
   ]
  },
  {
   "cell_type": "code",
   "execution_count": 19,
   "metadata": {},
   "outputs": [
    {
     "name": "stdout",
     "output_type": "stream",
     "text": [
      "[1, 4, 9, 16, 25, 36, 49, 64, 81]\n"
     ]
    }
   ],
   "source": [
    "x=[1,2,3,4,5,6,7,8,9]\n",
    "print(list(map(lambda x:x**2,x)))"
   ]
  },
  {
   "cell_type": "code",
   "execution_count": null,
   "metadata": {},
   "outputs": [],
   "source": []
  }
 ],
 "metadata": {
  "kernelspec": {
   "display_name": "base",
   "language": "python",
   "name": "python3"
  },
  "language_info": {
   "codemirror_mode": {
    "name": "ipython",
    "version": 3
   },
   "file_extension": ".py",
   "mimetype": "text/x-python",
   "name": "python",
   "nbconvert_exporter": "python",
   "pygments_lexer": "ipython3",
   "version": "3.10.10"
  },
  "orig_nbformat": 4
 },
 "nbformat": 4,
 "nbformat_minor": 2
}
