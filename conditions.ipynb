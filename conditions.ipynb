{
 "cells": [
  {
   "cell_type": "code",
   "execution_count": 1,
   "metadata": {},
   "outputs": [],
   "source": [
    "x=100"
   ]
  },
  {
   "cell_type": "code",
   "execution_count": 4,
   "metadata": {},
   "outputs": [
    {
     "name": "stdout",
     "output_type": "stream",
     "text": [
      "x is greater than 10\n"
     ]
    }
   ],
   "source": [
    "if x>10:\n",
    "    print(\"x is greater than 10\")\n"
   ]
  },
  {
   "cell_type": "code",
   "execution_count": 5,
   "metadata": {},
   "outputs": [],
   "source": [
    "name=\"william shakespeare\""
   ]
  },
  {
   "cell_type": "code",
   "execution_count": 6,
   "metadata": {},
   "outputs": [
    {
     "data": {
      "text/plain": [
       "True"
      ]
     },
     "execution_count": 6,
     "metadata": {},
     "output_type": "execute_result"
    }
   ],
   "source": [
    "'will' in name"
   ]
  },
  {
   "cell_type": "code",
   "execution_count": 7,
   "metadata": {},
   "outputs": [
    {
     "name": "stdout",
     "output_type": "stream",
     "text": [
      "spear found in name\n"
     ]
    }
   ],
   "source": [
    "if 'spear' in name:\n",
    "    print(\"spear found in name\")"
   ]
  },
  {
   "cell_type": "code",
   "execution_count": 8,
   "metadata": {},
   "outputs": [
    {
     "name": "stdout",
     "output_type": "stream",
     "text": [
      "you aree child\n"
     ]
    }
   ],
   "source": [
    "age=int(input('what is ur age:'))\n",
    "if age >=18:\n",
    "    print('you are adult')\n",
    "    print('you can vote')\n",
    "else:\n",
    "    print(\"you aree child\")\n",
    "    "
   ]
  },
  {
   "cell_type": "code",
   "execution_count": 10,
   "metadata": {},
   "outputs": [
    {
     "name": "stdout",
     "output_type": "stream",
     "text": [
      "welcome to the ice cream shop\n",
      "here is ur vanilla ice cream🤍\n"
     ]
    }
   ],
   "source": [
    "# if elif else ladder\n",
    "print('welcome to the ice cream shop')\n",
    "flavour=input('what flavour do u want?')\n",
    "if flavour=='vanilla':\n",
    "    print('here is ur vanilla ice cream🤍')\n",
    "elif flavour=='chocolate':\n",
    "    print('here is ur chocolate ice cream🍫')\n",
    "elif flavour=='mango':\n",
    "    print('here is ur mango ice cream🥭')\n",
    "elif flavour=='butterscotch':\n",
    "    print('here is ur butterscotch ice cream🧈')\n",
    "else:\n",
    "    print('sorry we do not have',flavour,'flavour🥲')\n"
   ]
  },
  {
   "cell_type": "code",
   "execution_count": null,
   "metadata": {},
   "outputs": [],
   "source": []
  }
 ],
 "metadata": {
  "kernelspec": {
   "display_name": "base",
   "language": "python",
   "name": "python3"
  },
  "language_info": {
   "codemirror_mode": {
    "name": "ipython",
    "version": 3
   },
   "file_extension": ".py",
   "mimetype": "text/x-python",
   "name": "python",
   "nbconvert_exporter": "python",
   "pygments_lexer": "ipython3",
   "version": "3.10.10"
  },
  "orig_nbformat": 4
 },
 "nbformat": 4,
 "nbformat_minor": 2
}
